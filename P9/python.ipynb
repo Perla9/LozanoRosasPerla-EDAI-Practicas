{
 "cells": [
  {
   "attachments": {},
   "cell_type": "markdown",
   "metadata": {},
   "source": [
    "1.VARIABLES Y TIPOS"
   ]
  },
  {
   "cell_type": "code",
   "execution_count": null,
   "metadata": {},
   "outputs": [],
   "source": [
    "#Inicializando variables\n",
    "x = 10     #variable de tipo entero\n",
    "print(x)\n",
    "#Se puede utilizar comillas dobles o simples para crear una cadena\n",
    "cadena = \"Hola Mundo\"    #varible de tipo cadena\n",
    "print(cadena) "
   ]
  },
  {
   "cell_type": "code",
   "execution_count": null,
   "metadata": {},
   "outputs": [],
   "source": [
    "#Asigna un mismo valor a tres variables\n",
    "x = y = z = 10\n",
    "print(x,y,z)"
   ]
  },
  {
   "cell_type": "code",
   "execution_count": null,
   "metadata": {},
   "outputs": [],
   "source": [
    "#La función type() permite conocer el tipo de una variable\n",
    "type(x)"
   ]
  },
  {
   "cell_type": "code",
   "execution_count": null,
   "metadata": {},
   "outputs": [],
   "source": [
    "type(cadena)"
   ]
  },
  {
   "cell_type": "code",
   "execution_count": null,
   "metadata": {},
   "outputs": [],
   "source": [
    "#Se pueden cambiar los valores de las variables y el tipo se cambia automáticamente\n",
    "x = \"Hola Mundo\"\n",
    "cadena = 10"
   ]
  },
  {
   "cell_type": "code",
   "execution_count": null,
   "metadata": {},
   "outputs": [],
   "source": [
    "type(x)"
   ]
  },
  {
   "cell_type": "code",
   "execution_count": null,
   "metadata": {},
   "outputs": [],
   "source": [
    "type(cadena)"
   ]
  },
  {
   "cell_type": "code",
   "execution_count": null,
   "metadata": {},
   "outputs": [],
   "source": [
    "SEGUNDOS_POR_DIA = 60 * 60 * 24\n",
    "PI = 3.14"
   ]
  },
  {
   "attachments": {},
   "cell_type": "markdown",
   "metadata": {},
   "source": [
    "2.CADENAS"
   ]
  },
  {
   "cell_type": "code",
   "execution_count": 1,
   "metadata": {},
   "outputs": [
    {
     "name": "stdout",
     "output_type": "stream",
     "text": [
      "Hola \n",
      "Mundo\n",
      "Hola Mundo\n"
     ]
    }
   ],
   "source": [
    "#Inicializando cadenas\n",
    "cadena1 = 'Hola '\n",
    "cadena2 = \"Mundo\" \n",
    "print(cadena1)\n",
    "print(cadena2)\n",
    "concat_cadenas = cadena1 + cadena2 #Concatenación de cadenas\n",
    "print(concat_cadenas)"
   ]
  },
  {
   "cell_type": "code",
   "execution_count": null,
   "metadata": {},
   "outputs": [],
   "source": [
    "#Para concatenar un número y una cadena se debe usar la función str()\n",
    "num_cadena = concat_cadenas +' '+ str(3)  #Se agrega una cadena vacía para agregar un espacio\n",
    "print(num_cadena)"
   ]
  },
  {
   "cell_type": "code",
   "execution_count": null,
   "metadata": {},
   "outputs": [],
   "source": [
    "#El valor de la variable se va a imprimir en el lugar donde se encuentre {} en la cadena\n",
    "num_cadena = \"{} {} {}\".format(cadena1, cadena2, 3)\n",
    "print(num_cadena)"
   ]
  },
  {
   "cell_type": "code",
   "execution_count": null,
   "metadata": {},
   "outputs": [],
   "source": [
    "#Cuando se agrega un númmero dentro de {#}, el valor la variable que se encuentra en esa posicón \n",
    "#dentro de la función format(), será impreso.\n",
    "num_cadena = \"Cambiando el orden:  {1}  {2}  {0} #\".format(cadena1, cadena2, 3)\n",
    "print(num_cadena)"
   ]
  },
  {
   "attachments": {},
   "cell_type": "markdown",
   "metadata": {},
   "source": [
    "3. OPERADORES"
   ]
  },
  {
   "cell_type": "code",
   "execution_count": null,
   "metadata": {},
   "outputs": [],
   "source": [
    "#ARITMETICOS +,-,*,/\n",
    "#Para el exponente se  puede utilizar asterisco\n",
    "print( 1 + 5 )\n",
    "print( 6 * 3 )\n",
    "print( 10 - 4 )\n",
    "print( 100 / 50 )\n",
    "print( 10 % 2 )\n",
    "print( ((20 * 3) + (10 +1)) / 10 )\n",
    "print( 2**2 )"
   ]
  },
  {
   "cell_type": "code",
   "execution_count": null,
   "metadata": {},
   "outputs": [],
   "source": [
    "#Booleanos: and, not, or\n",
    "False and True"
   ]
  },
  {
   "cell_type": "code",
   "execution_count": null,
   "metadata": {},
   "outputs": [],
   "source": [
    "#Comparación: >, <, >=, <=, ==\n",
    "print (7 < 5)  #Falso\n",
    "\n",
    "print (7 > 5) #Verdadero\n",
    "\n",
    "print ((11 * 3)+2 == 36 - 1)  #Verdadero\n",
    "\n",
    "print ((11 * 3)+2 >= 36)   #Falso\n",
    "\n",
    "print (\"curso\" != \"CuRsO\") #Verdadero"
   ]
  },
  {
   "attachments": {},
   "cell_type": "markdown",
   "metadata": {},
   "source": [
    "4.LISTAS"
   ]
  },
  {
   "cell_type": "code",
   "execution_count": null,
   "metadata": {},
   "outputs": [],
   "source": [
    "#Declaracion de una lista simple\n",
    "lista_diasDelMes=[31,28,31,30,31,30,31,31,30,31,30,31]\n",
    "\n",
    "print (lista_diasDelMes)       #imprimir la lista completa\n",
    "print (lista_diasDelMes[0])   #imprimir elemento 1\n",
    "print (lista_diasDelMes[6])   #imprimir elemento 7\n",
    "print (lista_diasDelMes[11])  #imprimir elemento 12"
   ]
  },
  {
   "cell_type": "code",
   "execution_count": null,
   "metadata": {},
   "outputs": [],
   "source": [
    "lista_numeros=[['cero', 0],['uno',1, 'UNO'], ['dos',2], ['tres', 3], ['cuatro',4], ['X',5]]\n",
    "\n",
    "print (lista_numeros)      #imprimir lista completa\n",
    "\n",
    "print (lista_numeros[0])    #imprime el elemento 0 de la lista\n",
    "print (lista_numeros[1])    #imprime el elemento 1 de la lista\n",
    "\n",
    "print (lista_numeros[2][0]) #imprime el primer elemento de la lista en la posicion 2\n",
    "print (lista_numeros[2][1]) #imprime el segundo elemento de la lista en la posicion 2\n",
    "\n",
    "print (lista_numeros[1][0])\n",
    "print (lista_numeros[1][1])\n",
    "print (lista_numeros[1][2])"
   ]
  },
  {
   "cell_type": "code",
   "execution_count": null,
   "metadata": {},
   "outputs": [],
   "source": [
    "#Cambiando el valor de uno de los elementos de la lista\n",
    "\n",
    "lista_numeros[5][0] = \"cinco\"\n",
    "print (lista_numeros[5])"
   ]
  },
  {
   "attachments": {},
   "cell_type": "markdown",
   "metadata": {},
   "source": [
    "5.TUPLAS"
   ]
  },
  {
   "cell_type": "code",
   "execution_count": null,
   "metadata": {},
   "outputs": [],
   "source": [
    "#Declaracion de una tupla\n",
    "tupla_diasDelMes=(31,28,31,30,31,30,31,31,30,31,30,31)\n",
    "\n",
    "print (tupla_diasDelMes)       #imprimir la tupla completa\n",
    "print (tupla_diasDelMes[0])    #imprimir elemento 1\n",
    "print (tupla_diasDelMes[3])    #imprimir elemento 4\n",
    "print (tupla_diasDelMes[1])   #imprimir elemento 2"
   ]
  },
  {
   "cell_type": "code",
   "execution_count": null,
   "metadata": {},
   "outputs": [],
   "source": [
    "#Declaracion de tuplas anidadas\n",
    "\n",
    "tupla_numeros=(('cero', 0),('uno',1, 'UNO'), ('dos',2), ('tres', 3), ('cuatro',4), ('X',5))\n",
    "\n",
    "print (tupla_numeros)        #imprimir tupla completa\n",
    "\n",
    "print (tupla_numeros[0])     #imprime el elemento 0 de la tupla\n",
    "print (tupla_numeros[1])     #imprime el elemento 1 de la tupla\n",
    "\n",
    "print (tupla_numeros[2][0])  #imprime el primer elemento de la tupla en la posicion 2\n",
    "print (tupla_numeros[2][1])  #imprime el segundo elemento de la tupla en la posicion 2\n",
    "\n",
    "print (tupla_numeros[1][0])\n",
    "print (tupla_numeros[1][1])\n",
    "print (tupla_numeros[1][2])"
   ]
  },
  {
   "cell_type": "code",
   "execution_count": null,
   "metadata": {},
   "outputs": [],
   "source": [
    "#Probando la mutabilidad de las listas vs la no mutabilidad de las tuplas\n",
    "print(\"valor actual {}\".format(lista_diasDelMes[0]))\n",
    "lista_diasDelMes[0] = 50\n",
    "print(\"valor cambiado {}\".format(lista_diasDelMes[0]))\n",
    "tupla_diasDelMes[0] = 50   #Esta asignación manda un error, ya que no se pueden cambiar los valores de las tuplas"
   ]
  },
  {
   "attachments": {},
   "cell_type": "markdown",
   "metadata": {},
   "source": [
    "6.TUPLA CON NOMBRE"
   ]
  },
  {
   "cell_type": "code",
   "execution_count": null,
   "metadata": {},
   "outputs": [],
   "source": [
    "#Se debe importat la librería para hacer uso de namedtuple\n",
    "from collections import namedtuple\n",
    "\n",
    "#Se crea la tupla con nombre\n",
    "#El primer argumento es el nombre de la tupla, mientras que el segundo argumento son los campos\n",
    "#p es la referencia a la tupla\n",
    "planeta = namedtuple('planeta', ['nombre', 'numero'])\n",
    "\n",
    "#Se crea el planeta 1 y se agregan a la tupla los valores correspondientes a los campos\n",
    "planeta1 = planeta('Mercurio', 1)\n",
    "print(planeta1)\n",
    "\n",
    "#Se crea el planeta 2\n",
    "planeta2 = planeta('Venus', 2)\n",
    "\n",
    "#Se imprimen los valores de los campos\n",
    "#Usando la referencia se llama a cada uno de sus campos\n",
    "print(planeta1.nombre, planeta1.numero)  \n",
    "#Se obtienen los valores por el orden de los campos\n",
    "print(planeta2[0], planeta2[1])  \n",
    "\n",
    "print('Campos de la tupla: {}'.format(planeta1._fields))"
   ]
  },
  {
   "attachments": {},
   "cell_type": "markdown",
   "metadata": {},
   "source": [
    "7.DICCIONARIOS"
   ]
  },
  {
   "cell_type": "code",
   "execution_count": null,
   "metadata": {},
   "outputs": [],
   "source": [
    "#Creando un diccionario\n",
    "elementos = { 'hidrogeno': 1, 'helio': 2, 'carbon': 6 }\n",
    "\n",
    "#EL momento de la impresion, pueden aparecer en diferente orden del introducido\n",
    "print (elementos)\n",
    "\n",
    "print (elementos['hidrogeno'])"
   ]
  },
  {
   "cell_type": "code",
   "execution_count": null,
   "metadata": {},
   "outputs": [],
   "source": [
    "#Se pueen agregar elementos al diccionario\n",
    "elementos['litio'] = 3\n",
    "elementos['nitrogeno'] = 8\n",
    "\n",
    "print (elementos)  #Imprimiendo todos los elementos, nótese que los elementos no están ordenados"
   ]
  },
  {
   "cell_type": "code",
   "execution_count": null,
   "metadata": {},
   "outputs": [],
   "source": [
    "#Creando un nuevo diccionario\n",
    "elementos2 = {}\n",
    "elementos2['H'] = {'name': 'Hydrogen', 'number': 1, 'weight': 1.00794}\n",
    "elementos2['He'] = {'name': 'Helium', 'number': 2, 'weight': 4.002602}\n",
    "\n",
    "print (elementos2)"
   ]
  },
  {
   "cell_type": "code",
   "execution_count": null,
   "metadata": {},
   "outputs": [],
   "source": [
    "#Imprimiendo los datos de un elemento del diccionario\n",
    "print (elementos2['H'])\n",
    "print (elementos2['H']['name'])\n",
    "print (elementos2['H']['number'])\n",
    "elementos2['H']['weight'] =  4.30  #Cambiando el valor de un elemento\n",
    "print (elementos2['H']['weight'])"
   ]
  },
  {
   "cell_type": "code",
   "execution_count": null,
   "metadata": {},
   "outputs": [],
   "source": [
    "#Agregando elementos a una llave\n",
    "elementos2['H'].update({'gas noble':True})\n",
    "print (elementos2['H'])"
   ]
  },
  {
   "cell_type": "code",
   "execution_count": null,
   "metadata": {},
   "outputs": [],
   "source": [
    "#Muestra todos los elementos del diccionario\n",
    "print (elementos2.items())\n",
    "\n",
    "#Muestra todas las llaves del diccionario\n",
    "print (elementos2.keys())"
   ]
  },
  {
   "attachments": {},
   "cell_type": "markdown",
   "metadata": {},
   "source": [
    "8.FUNCIONES"
   ]
  },
  {
   "cell_type": "code",
   "execution_count": null,
   "metadata": {},
   "outputs": [],
   "source": [
    "#Las funciones pueden recibir n número de parámetros, no se necesita indicar el tipo\n",
    "def imprime_nombre(nombre):\n",
    "    print(\"hola \"+nombre)  #Las cadenas se pueden concatenar con el +"
   ]
  },
  {
   "cell_type": "code",
   "execution_count": null,
   "metadata": {},
   "outputs": [],
   "source": [
    "#Llamada a la función\n",
    "imprime_nombre(\"JJ\")"
   ]
  },
  {
   "cell_type": "code",
   "execution_count": null,
   "metadata": {},
   "outputs": [],
   "source": [
    "#Definiendo una función que regresa el cuadrado de un número\n",
    "def cuadrado(x):\n",
    "    return x**2"
   ]
  },
  {
   "cell_type": "code",
   "execution_count": null,
   "metadata": {},
   "outputs": [],
   "source": [
    "x = 5\n",
    "#La función format() sirve para convertir los parámetros que recibe, en cadenas; éstos valores son reemplazadas\n",
    "#por las llaves de la cadena.\n",
    "print(\"El cuadrado de {} es {}\".format(x, cuadrado(x)))   #La función cuadrado() regresa un valor"
   ]
  },
  {
   "cell_type": "code",
   "execution_count": null,
   "metadata": {},
   "outputs": [],
   "source": [
    "#Definiendo una función que regrese más de un valor\n",
    "def varios(x):\n",
    "    return x**2, x**3, x**4"
   ]
  },
  {
   "cell_type": "code",
   "execution_count": null,
   "metadata": {},
   "outputs": [],
   "source": [
    "#Los valores que regresa la función pueden ser guardado en variables separadas por ,\n",
    "val1, val2, val3 = varios(2)\n",
    "print(\"{} {} {}\".format(val1, val2, val3))"
   ]
  },
  {
   "cell_type": "code",
   "execution_count": null,
   "metadata": {},
   "outputs": [],
   "source": [
    "#Función con un parámetro con un valor por defecto\n",
    "def cuadrado_default(x=3):\n",
    "    return x**2"
   ]
  },
  {
   "cell_type": "code",
   "execution_count": null,
   "metadata": {},
   "outputs": [],
   "source": [
    "#Como la función tiene un valor por defailt, si se manda llamar la función sin especificar el parámetro, se toma el que\n",
    "#tiene por defecto\n",
    "cuadrado_default()"
   ]
  },
  {
   "cell_type": "code",
   "execution_count": null,
   "metadata": {},
   "outputs": [],
   "source": [
    "#La función regresa tres, valores, pero sólo nos interesa el primero y el tercero\n",
    "val4, _, val5 = varios(2)\n",
    "print(\"{} {}\".format(val4, val5))"
   ]
  },
  {
   "attachments": {},
   "cell_type": "markdown",
   "metadata": {},
   "source": [
    "9.VARIABLES GOBLALES"
   ]
  },
  {
   "cell_type": "code",
   "execution_count": null,
   "metadata": {},
   "outputs": [],
   "source": [
    "#Se crea una variable en el espacio global de nombres \n",
    "vg = 'Global'"
   ]
  },
  {
   "cell_type": "code",
   "execution_count": null,
   "metadata": {},
   "outputs": [],
   "source": [
    "#Se crea una función que imprime la variable global\n",
    "def funcion_v1():\n",
    "    print(vg)"
   ]
  },
  {
   "cell_type": "code",
   "execution_count": null,
   "metadata": {},
   "outputs": [],
   "source": [
    "#Llamada a la función que imprime la variable global\n",
    "funcion_v1()\n",
    "\n",
    "#Imprime la variable global\n",
    "print(vg)"
   ]
  },
  {
   "cell_type": "code",
   "execution_count": null,
   "metadata": {},
   "outputs": [],
   "source": [
    "#Se crea una variable local que tiene el mismo nombre que la variable global\n",
    "def funcion_v2():\n",
    "    vg = \"Local\"\n",
    "    print(vg)"
   ]
  },
  {
   "cell_type": "code",
   "execution_count": null,
   "metadata": {},
   "outputs": [],
   "source": [
    "#Llamada a la función \n",
    "funcion_v2()  #Imprime valor local\n",
    "\n",
    "#Imprime la variable global\n",
    "print(vg)"
   ]
  },
  {
   "cell_type": "code",
   "execution_count": null,
   "metadata": {},
   "outputs": [],
   "source": [
    "#Se trata de imprimir el valor de la variable global, a diferencia de la función_v1(), se creó en el \n",
    "#espacio local de la funcion_v3() una variable con el mismo nombre, por lo que se reemplaza la variable\n",
    "#global\n",
    "def funcion_v3():\n",
    "    print(vg)\n",
    "    vg = \"Local\"\n",
    "    print(vg)"
   ]
  },
  {
   "cell_type": "code",
   "execution_count": null,
   "metadata": {},
   "outputs": [],
   "source": [
    "#Como se tiene una variable local y no se le ha asignado un valor, se genera un error\n",
    "funcion_v3()"
   ]
  },
  {
   "cell_type": "code",
   "execution_count": null,
   "metadata": {},
   "outputs": [],
   "source": [
    "#Para resolver el problema anterior y especificar que se quiere hacer uso de la variable global dentro de la\n",
    "#función funcion_v4(), se tiene que agregar la palabra reservada global\n",
    "def funcion_v4():\n",
    "    global vg\n",
    "    print(vg)\n",
    "    vg = \"Local\"\n",
    "    print(vg)"
   ]
  },
  {
   "cell_type": "code",
   "execution_count": null,
   "metadata": {},
   "outputs": [],
   "source": [
    "#Al momento de ejecutar la función se imprime el valor que tenía asignado vg antes de se modificado por la función.\n",
    "#Después de asignar el valor, éste es impreso\n",
    "funcion_v4()\n",
    "\n",
    "#Se imprime la variable global con su valor modificado\n",
    "print(vg)"
   ]
  },
  {
   "attachments": {},
   "cell_type": "markdown",
   "metadata": {},
   "source": [
    "10.ESTRUCTURAS DE CONTROL SELECTIVAS"
   ]
  },
  {
   "cell_type": "code",
   "execution_count": null,
   "metadata": {},
   "outputs": [],
   "source": [
    "#if\n",
    "def obtenerMayor(param1,param2):\n",
    "    if param1 < param2:\n",
    "        print('{} es mayor que {}'.format(param2, param1))   "
   ]
  },
  {
   "cell_type": "code",
   "execution_count": null,
   "metadata": {},
   "outputs": [],
   "source": [
    "obtenerMayor(5, 7) "
   ]
  },
  {
   "cell_type": "code",
   "execution_count": null,
   "metadata": {},
   "outputs": [],
   "source": [
    "obtenerMayor(7, 5)   #No imprime nada"
   ]
  },
  {
   "cell_type": "code",
   "execution_count": null,
   "metadata": {},
   "outputs": [],
   "source": [
    "#Idiom: Se puede encadenar más de una una condición sin tener que agregar un operador booleano.\n",
    "x = y = z = 3\n",
    "if x == y == z: \n",
    "    print(True)"
   ]
  },
  {
   "cell_type": "code",
   "execution_count": null,
   "metadata": {},
   "outputs": [],
   "source": [
    "#if-else\n",
    "def obtenerMayorv2(param1,param2):\n",
    "    if param1 < param2:\n",
    "        return param2\n",
    "    else:\n",
    "        return param1"
   ]
  },
  {
   "cell_type": "code",
   "execution_count": null,
   "metadata": {},
   "outputs": [],
   "source": [
    "print (\"El mayor es {}\".format( obtenerMayorv2(4, 20) )) "
   ]
  },
  {
   "cell_type": "code",
   "execution_count": null,
   "metadata": {},
   "outputs": [],
   "source": [
    "print (\"El mayor es {}\".format( obtenerMayorv2(11, 6) )) "
   ]
  },
  {
   "cell_type": "code",
   "execution_count": null,
   "metadata": {},
   "outputs": [],
   "source": [
    "def obtenerMayor_idiom(param1,param2):\n",
    "    #La variable valor va a tener el valor de param2 is el if es verdadero\n",
    "    #de lo contrario tendra el valor de param1\n",
    "    valor = param2 if (param1 < param2) else param1\n",
    "    return valor"
   ]
  },
  {
   "cell_type": "code",
   "execution_count": 1,
   "metadata": {},
   "outputs": [
    {
     "ename": "NameError",
     "evalue": "name 'obtenerMayor_idiom' is not defined",
     "output_type": "error",
     "traceback": [
      "\u001b[0;31m---------------------------------------------------------------------------\u001b[0m",
      "\u001b[0;31mNameError\u001b[0m                                 Traceback (most recent call last)",
      "Cell \u001b[0;32mIn[1], line 1\u001b[0m\n\u001b[0;32m----> 1\u001b[0m \u001b[39mprint\u001b[39m (\u001b[39m\"\u001b[39m\u001b[39mEl mayor es \u001b[39m\u001b[39m{}\u001b[39;00m\u001b[39m\"\u001b[39m\u001b[39m.\u001b[39mformat( obtenerMayor_idiom(\u001b[39m11\u001b[39m, \u001b[39m6\u001b[39m) )) \n",
      "\u001b[0;31mNameError\u001b[0m: name 'obtenerMayor_idiom' is not defined"
     ]
    }
   ],
   "source": [
    "print (\"El mayor es {}\".format( obtenerMayor_idiom(11, 6) )) "
   ]
  },
  {
   "cell_type": "code",
   "execution_count": null,
   "metadata": {},
   "outputs": [],
   "source": [
    "#if-else-else\n",
    "def numeros(num):\n",
    "    if num==1:\n",
    "     print (\"tu numero es 1\")\n",
    "    elif num==2:\n",
    "     print (\"el numero es 2\")\n",
    "    elif num==3:\n",
    "     print (\"el numero es 3\")\n",
    "    elif num==4:\n",
    "     print (\"el numero es 4\")\n",
    "    else:\n",
    "     print (\"no hay opcion\")"
   ]
  },
  {
   "cell_type": "code",
   "execution_count": null,
   "metadata": {},
   "outputs": [],
   "source": [
    "numeros(2)"
   ]
  },
  {
   "cell_type": "code",
   "execution_count": null,
   "metadata": {},
   "outputs": [],
   "source": [
    "numeros(5)"
   ]
  },
  {
   "cell_type": "code",
   "execution_count": null,
   "metadata": {},
   "outputs": [],
   "source": [
    "# En alunos casos, se puede evitar la repetición de código del if-elif-else de la siguiente manera:\n",
    "def numeros_idiom(num):\n",
    "    #La tupla tiene las opciones válidas\n",
    "    if num in (1,2,3,4):\n",
    "        print(\"tu numero es {}\".format(num))\n",
    "    else:\n",
    "        print (\"{} no es una opcion\".format(num))"
   ]
  },
  {
   "cell_type": "code",
   "execution_count": null,
   "metadata": {},
   "outputs": [],
   "source": [
    "numeros_idiom(2)"
   ]
  },
  {
   "cell_type": "code",
   "execution_count": 6,
   "metadata": {},
   "outputs": [
    {
     "ename": "NameError",
     "evalue": "name 'numeros_idiom' is not defined",
     "output_type": "error",
     "traceback": [
      "\u001b[0;31m---------------------------------------------------------------------------\u001b[0m",
      "\u001b[0;31mNameError\u001b[0m                                 Traceback (most recent call last)",
      "Cell \u001b[0;32mIn[6], line 1\u001b[0m\n\u001b[0;32m----> 1\u001b[0m numeros_idiom(\u001b[39m5\u001b[39m)\n",
      "\u001b[0;31mNameError\u001b[0m: name 'numeros_idiom' is not defined"
     ]
    }
   ],
   "source": [
    "numeros_idiom(5)"
   ]
  },
  {
   "cell_type": "code",
   "execution_count": 1,
   "metadata": {},
   "outputs": [],
   "source": [
    "#Estructura de control selectiva anidada\n",
    "def obtenerMasGrande(a, b, c):\n",
    "    if a > b:\n",
    "        if a > c:\n",
    "            return a\n",
    "        else:\n",
    "            return c\n",
    "    else:\n",
    "        if b > c:\n",
    "            return b\n",
    "        else:\n",
    "            return c"
   ]
  },
  {
   "cell_type": "code",
   "execution_count": 2,
   "metadata": {},
   "outputs": [
    {
     "name": "stdout",
     "output_type": "stream",
     "text": [
      "El mas grande es 13\n"
     ]
    }
   ],
   "source": [
    "print (\"El mas grande es {}\".format(obtenerMasGrande(7,13,1) ))"
   ]
  },
  {
   "attachments": {},
   "cell_type": "markdown",
   "metadata": {},
   "source": [
    "11.ESTRUCTURAS DE CONTROL REPETITIVAS"
   ]
  },
  {
   "attachments": {},
   "cell_type": "markdown",
   "metadata": {},
   "source": [
    "11.1.CILCO WHILE"
   ]
  },
  {
   "cell_type": "code",
   "execution_count": null,
   "metadata": {},
   "outputs": [],
   "source": [
    "\n",
    "#Ejemplo 1\n",
    "def cuenta(limite):\n",
    "    i = limite\n",
    "    while True:\n",
    "        print (i)\n",
    "        i = i -1\n",
    "        if i == 0:\n",
    "            break # Rompiendo el ciclo"
   ]
  },
  {
   "cell_type": "code",
   "execution_count": null,
   "metadata": {},
   "outputs": [],
   "source": [
    "cuenta(10)"
   ]
  },
  {
   "cell_type": "code",
   "execution_count": null,
   "metadata": {},
   "outputs": [],
   "source": [
    "#Ejemplo 2\n",
    "def factorial(n):\n",
    "    i = 2\n",
    "    tmp = 1\n",
    "    while i <n+1:\n",
    "        tmp = tmp * i\n",
    "        i = i + 1\n",
    "    return tmp"
   ]
  },
  {
   "cell_type": "code",
   "execution_count": null,
   "metadata": {},
   "outputs": [],
   "source": [
    "print (factorial(4))"
   ]
  },
  {
   "cell_type": "code",
   "execution_count": null,
   "metadata": {},
   "outputs": [],
   "source": [
    "print (factorial(6))"
   ]
  },
  {
   "attachments": {},
   "cell_type": "markdown",
   "metadata": {},
   "source": [
    "11.2. CICLO FOR"
   ]
  },
  {
   "cell_type": "code",
   "execution_count": null,
   "metadata": {},
   "outputs": [],
   "source": [
    "#Interacción en Listas\n",
    "for x in [1,2,3,4,5]:\n",
    "    print(x)"
   ]
  },
  {
   "cell_type": "code",
   "execution_count": null,
   "metadata": {},
   "outputs": [],
   "source": [
    "#La función range() sirve para generar una lista\n",
    "for x in range(5): #este caso es equivalente a range(0,5)\n",
    "    print(x)"
   ]
  },
  {
   "cell_type": "code",
   "execution_count": null,
   "metadata": {},
   "outputs": [],
   "source": [
    "#También se puede inizializar desde números negativos \n",
    "for x in range(-5,2):\n",
    "    print(x)"
   ]
  },
  {
   "cell_type": "code",
   "execution_count": null,
   "metadata": {},
   "outputs": [],
   "source": [
    "for num in [\"uno\", \"dos\", \"tres\", \"cuatro\"]:\n",
    "    print(num)"
   ]
  },
  {
   "cell_type": "code",
   "execution_count": null,
   "metadata": {},
   "outputs": [],
   "source": [
    "#Interacción con Diccionarios\n",
    "#Creando un diccionario\n",
    "elementos = { 'hidrogeno': 1, 'helio': 2, 'carbon': 6 }\n",
    "\n",
    "for llave, valor in elementos.items():\n",
    "    print(llave, \" = \", valor)"
   ]
  },
  {
   "cell_type": "code",
   "execution_count": null,
   "metadata": {},
   "outputs": [],
   "source": [
    "#Obteniendo sólo las llaves\n",
    "for llave in elementos.keys():\n",
    "    print(llave)"
   ]
  },
  {
   "cell_type": "code",
   "execution_count": null,
   "metadata": {},
   "outputs": [],
   "source": [
    "#Obteniendo sólo los valores\n",
    "for valor in elementos.values():\n",
    "    print(valor)"
   ]
  },
  {
   "cell_type": "code",
   "execution_count": null,
   "metadata": {},
   "outputs": [],
   "source": [
    "#Si se necesita iterar utilizando un índice\n",
    "for idx, x in enumerate(elementos):\n",
    "    print(\"El indice es: {} y el elemento: {}\".format(idx, x))"
   ]
  },
  {
   "cell_type": "code",
   "execution_count": null,
   "metadata": {},
   "outputs": [],
   "source": [
    "def cuenta_idiom(limite):\n",
    "    for i in range(limite, 0, -1):\n",
    "        print(i)\n",
    "    else: #Corresponde al for, NO al IF \n",
    "        print(\"Cuenta finalizada\")"
   ]
  },
  {
   "cell_type": "code",
   "execution_count": null,
   "metadata": {},
   "outputs": [],
   "source": [
    "cuenta_idiom(5)"
   ]
  },
  {
   "cell_type": "code",
   "execution_count": null,
   "metadata": {},
   "outputs": [],
   "source": [
    "#Se rompe el ciclo y la sentencia else del for no se ejecuta\n",
    "def cuenta_idiomv2(limite):\n",
    "    for i in range(limite, 0, -1):\n",
    "        print(i)\n",
    "        if i == 3:\n",
    "            break  #Se rompe el ciclo\n",
    "    else: #Corresponde al FOR, NO al IF \n",
    "        print(\"Cuenta finalizada\")"
   ]
  },
  {
   "cell_type": "code",
   "execution_count": null,
   "metadata": {},
   "outputs": [],
   "source": [
    "cuenta_idiomv2(5)"
   ]
  },
  {
   "attachments": {},
   "cell_type": "markdown",
   "metadata": {},
   "source": [
    "12. BIBLIOTECAS"
   ]
  },
  {
   "cell_type": "code",
   "execution_count": null,
   "metadata": {},
   "outputs": [],
   "source": [
    "#Para utilizar una biblioteca, ésta se debe de importar\n",
    "import math\n",
    "\n",
    "x = math.cos(math.pi)\n",
    "\n",
    "print(x)"
   ]
  },
  {
   "cell_type": "code",
   "execution_count": null,
   "metadata": {},
   "outputs": [],
   "source": [
    "#También se pueden importar todas las funciones de la bibliotecas, de esta manera no se tiene que usar el prefijo \n",
    "#de la biblioteca, que en el ejemplo anterior fue math \n",
    "from math import *\n",
    "\n",
    "x = cos(pi)  #No se utiliza el prefijo math\n",
    "\n",
    "print(x)"
   ]
  },
  {
   "cell_type": "code",
   "execution_count": null,
   "metadata": {},
   "outputs": [],
   "source": [
    "#Otra manera es importar sólo las funciones que se necesitan\n",
    "from math import cos, pi\n",
    "\n",
    "x = cos(pi)\n",
    "\n",
    "print(x)"
   ]
  },
  {
   "cell_type": "code",
   "execution_count": null,
   "metadata": {},
   "outputs": [],
   "source": [
    "#Una vez que la biblioteca está importada, se pueden conocer las funciones que éste contiene\n",
    "print(dir(math))"
   ]
  },
  {
   "cell_type": "code",
   "execution_count": null,
   "metadata": {},
   "outputs": [],
   "source": [
    "#Para conocer cómo utilizar las funciones, se puede utilizar la función help\n",
    "help(math.log)"
   ]
  },
  {
   "cell_type": "code",
   "execution_count": null,
   "metadata": {},
   "outputs": [],
   "source": [
    "#Se puede definir un alias para llamar a las funciones que tiene la biblioteca math.\n",
    "#Esta es la forma más recomendada para importar módulos, ya que de esta manera se sabe de qué módulo proviene la función.\n",
    "import math as ma\n",
    "\n",
    "x = ma.cos(ma.pi)\n",
    "\n",
    "print(x)"
   ]
  },
  {
   "attachments": {},
   "cell_type": "markdown",
   "metadata": {},
   "source": [
    "13.Graficación"
   ]
  },
  {
   "cell_type": "code",
   "execution_count": 3,
   "metadata": {},
   "outputs": [
    {
     "ename": "ModuleNotFoundError",
     "evalue": "No module named 'matplotlib'",
     "output_type": "error",
     "traceback": [
      "\u001b[0;31m---------------------------------------------------------------------------\u001b[0m",
      "\u001b[0;31mModuleNotFoundError\u001b[0m                       Traceback (most recent call last)",
      "Cell \u001b[0;32mIn[3], line 1\u001b[0m\n\u001b[0;32m----> 1\u001b[0m get_ipython()\u001b[39m.\u001b[39;49mrun_line_magic(\u001b[39m'\u001b[39;49m\u001b[39mpylab\u001b[39;49m\u001b[39m'\u001b[39;49m, \u001b[39m'\u001b[39;49m\u001b[39minline\u001b[39;49m\u001b[39m'\u001b[39;49m)\n",
      "File \u001b[0;32m/workspace/.pyenv_mirror/user/current/lib/python3.8/site-packages/IPython/core/interactiveshell.py:2417\u001b[0m, in \u001b[0;36mInteractiveShell.run_line_magic\u001b[0;34m(self, magic_name, line, _stack_depth)\u001b[0m\n\u001b[1;32m   2415\u001b[0m     kwargs[\u001b[39m'\u001b[39m\u001b[39mlocal_ns\u001b[39m\u001b[39m'\u001b[39m] \u001b[39m=\u001b[39m \u001b[39mself\u001b[39m\u001b[39m.\u001b[39mget_local_scope(stack_depth)\n\u001b[1;32m   2416\u001b[0m \u001b[39mwith\u001b[39;00m \u001b[39mself\u001b[39m\u001b[39m.\u001b[39mbuiltin_trap:\n\u001b[0;32m-> 2417\u001b[0m     result \u001b[39m=\u001b[39m fn(\u001b[39m*\u001b[39;49margs, \u001b[39m*\u001b[39;49m\u001b[39m*\u001b[39;49mkwargs)\n\u001b[1;32m   2419\u001b[0m \u001b[39m# The code below prevents the output from being displayed\u001b[39;00m\n\u001b[1;32m   2420\u001b[0m \u001b[39m# when using magics with decodator @output_can_be_silenced\u001b[39;00m\n\u001b[1;32m   2421\u001b[0m \u001b[39m# when the last Python token in the expression is a ';'.\u001b[39;00m\n\u001b[1;32m   2422\u001b[0m \u001b[39mif\u001b[39;00m \u001b[39mgetattr\u001b[39m(fn, magic\u001b[39m.\u001b[39mMAGIC_OUTPUT_CAN_BE_SILENCED, \u001b[39mFalse\u001b[39;00m):\n",
      "File \u001b[0;32m/workspace/.pyenv_mirror/user/current/lib/python3.8/site-packages/IPython/core/magics/pylab.py:155\u001b[0m, in \u001b[0;36mPylabMagics.pylab\u001b[0;34m(self, line)\u001b[0m\n\u001b[1;32m    151\u001b[0m \u001b[39melse\u001b[39;00m:\n\u001b[1;32m    152\u001b[0m     \u001b[39m# invert no-import flag\u001b[39;00m\n\u001b[1;32m    153\u001b[0m     import_all \u001b[39m=\u001b[39m \u001b[39mnot\u001b[39;00m args\u001b[39m.\u001b[39mno_import_all\n\u001b[0;32m--> 155\u001b[0m gui, backend, clobbered \u001b[39m=\u001b[39m \u001b[39mself\u001b[39;49m\u001b[39m.\u001b[39;49mshell\u001b[39m.\u001b[39;49menable_pylab(args\u001b[39m.\u001b[39;49mgui, import_all\u001b[39m=\u001b[39;49mimport_all)\n\u001b[1;32m    156\u001b[0m \u001b[39mself\u001b[39m\u001b[39m.\u001b[39m_show_matplotlib_backend(args\u001b[39m.\u001b[39mgui, backend)\n\u001b[1;32m    157\u001b[0m \u001b[39mprint\u001b[39m(\n\u001b[1;32m    158\u001b[0m     \u001b[39m\"\u001b[39m\u001b[39m%\u001b[39m\u001b[39mpylab is deprecated, use \u001b[39m\u001b[39m%\u001b[39m\u001b[39mmatplotlib inline and import the required libraries.\u001b[39m\u001b[39m\"\u001b[39m\n\u001b[1;32m    159\u001b[0m )\n",
      "File \u001b[0;32m/workspace/.pyenv_mirror/user/current/lib/python3.8/site-packages/IPython/core/interactiveshell.py:3642\u001b[0m, in \u001b[0;36mInteractiveShell.enable_pylab\u001b[0;34m(self, gui, import_all, welcome_message)\u001b[0m\n\u001b[1;32m   3615\u001b[0m \u001b[39m\u001b[39m\u001b[39m\"\"\"Activate pylab support at runtime.\u001b[39;00m\n\u001b[1;32m   3616\u001b[0m \n\u001b[1;32m   3617\u001b[0m \u001b[39mThis turns on support for matplotlib, preloads into the interactive\u001b[39;00m\n\u001b[0;32m   (...)\u001b[0m\n\u001b[1;32m   3638\u001b[0m \u001b[39m    This argument is ignored, no welcome message will be displayed.\u001b[39;00m\n\u001b[1;32m   3639\u001b[0m \u001b[39m\"\"\"\u001b[39;00m\n\u001b[1;32m   3640\u001b[0m \u001b[39mfrom\u001b[39;00m \u001b[39mIPython\u001b[39;00m\u001b[39m.\u001b[39;00m\u001b[39mcore\u001b[39;00m\u001b[39m.\u001b[39;00m\u001b[39mpylabtools\u001b[39;00m \u001b[39mimport\u001b[39;00m import_pylab\n\u001b[0;32m-> 3642\u001b[0m gui, backend \u001b[39m=\u001b[39m \u001b[39mself\u001b[39;49m\u001b[39m.\u001b[39;49menable_matplotlib(gui)\n\u001b[1;32m   3644\u001b[0m \u001b[39m# We want to prevent the loading of pylab to pollute the user's\u001b[39;00m\n\u001b[1;32m   3645\u001b[0m \u001b[39m# namespace as shown by the %who* magics, so we execute the activation\u001b[39;00m\n\u001b[1;32m   3646\u001b[0m \u001b[39m# code in an empty namespace, and we update *both* user_ns and\u001b[39;00m\n\u001b[1;32m   3647\u001b[0m \u001b[39m# user_ns_hidden with this information.\u001b[39;00m\n\u001b[1;32m   3648\u001b[0m ns \u001b[39m=\u001b[39m {}\n",
      "File \u001b[0;32m/workspace/.pyenv_mirror/user/current/lib/python3.8/site-packages/IPython/core/interactiveshell.py:3588\u001b[0m, in \u001b[0;36mInteractiveShell.enable_matplotlib\u001b[0;34m(self, gui)\u001b[0m\n\u001b[1;32m   3567\u001b[0m \u001b[39mdef\u001b[39;00m \u001b[39menable_matplotlib\u001b[39m(\u001b[39mself\u001b[39m, gui\u001b[39m=\u001b[39m\u001b[39mNone\u001b[39;00m):\n\u001b[1;32m   3568\u001b[0m \u001b[39m    \u001b[39m\u001b[39m\"\"\"Enable interactive matplotlib and inline figure support.\u001b[39;00m\n\u001b[1;32m   3569\u001b[0m \n\u001b[1;32m   3570\u001b[0m \u001b[39m    This takes the following steps:\u001b[39;00m\n\u001b[0;32m   (...)\u001b[0m\n\u001b[1;32m   3586\u001b[0m \u001b[39m        display figures inline.\u001b[39;00m\n\u001b[1;32m   3587\u001b[0m \u001b[39m    \"\"\"\u001b[39;00m\n\u001b[0;32m-> 3588\u001b[0m     \u001b[39mfrom\u001b[39;00m \u001b[39mmatplotlib_inline\u001b[39;00m\u001b[39m.\u001b[39;00m\u001b[39mbackend_inline\u001b[39;00m \u001b[39mimport\u001b[39;00m configure_inline_support\n\u001b[1;32m   3590\u001b[0m     \u001b[39mfrom\u001b[39;00m \u001b[39mIPython\u001b[39;00m\u001b[39m.\u001b[39;00m\u001b[39mcore\u001b[39;00m \u001b[39mimport\u001b[39;00m pylabtools \u001b[39mas\u001b[39;00m pt\n\u001b[1;32m   3591\u001b[0m     gui, backend \u001b[39m=\u001b[39m pt\u001b[39m.\u001b[39mfind_gui_and_backend(gui, \u001b[39mself\u001b[39m\u001b[39m.\u001b[39mpylab_gui_select)\n",
      "File \u001b[0;32m/workspace/.pyenv_mirror/user/current/lib/python3.8/site-packages/matplotlib_inline/__init__.py:1\u001b[0m\n\u001b[0;32m----> 1\u001b[0m \u001b[39mfrom\u001b[39;00m \u001b[39m.\u001b[39;00m \u001b[39mimport\u001b[39;00m backend_inline, config  \u001b[39m# noqa\u001b[39;00m\n\u001b[1;32m      2\u001b[0m __version__ \u001b[39m=\u001b[39m \u001b[39m\"\u001b[39m\u001b[39m0.1.6\u001b[39m\u001b[39m\"\u001b[39m  \u001b[39m# noqa\u001b[39;00m\n",
      "File \u001b[0;32m/workspace/.pyenv_mirror/user/current/lib/python3.8/site-packages/matplotlib_inline/backend_inline.py:6\u001b[0m\n\u001b[1;32m      1\u001b[0m \u001b[39m\"\"\"A matplotlib backend for publishing figures via display_data\"\"\"\u001b[39;00m\n\u001b[1;32m      3\u001b[0m \u001b[39m# Copyright (c) IPython Development Team.\u001b[39;00m\n\u001b[1;32m      4\u001b[0m \u001b[39m# Distributed under the terms of the BSD 3-Clause License.\u001b[39;00m\n\u001b[0;32m----> 6\u001b[0m \u001b[39mimport\u001b[39;00m \u001b[39mmatplotlib\u001b[39;00m\n\u001b[1;32m      7\u001b[0m \u001b[39mfrom\u001b[39;00m \u001b[39mmatplotlib\u001b[39;00m \u001b[39mimport\u001b[39;00m colors\n\u001b[1;32m      8\u001b[0m \u001b[39mfrom\u001b[39;00m \u001b[39mmatplotlib\u001b[39;00m\u001b[39m.\u001b[39;00m\u001b[39mbackends\u001b[39;00m \u001b[39mimport\u001b[39;00m backend_agg\n",
      "\u001b[0;31mModuleNotFoundError\u001b[0m: No module named 'matplotlib'"
     ]
    }
   ],
   "source": [
    "%pylab inline  "
   ]
  },
  {
   "cell_type": "code",
   "execution_count": null,
   "metadata": {},
   "outputs": [],
   "source": [
    "#Importando las bibliotecas\n",
    "import matplotlib.pyplot as plt\n",
    "from mpl_toolkits.mplot3d import Axes3D"
   ]
  },
  {
   "cell_type": "code",
   "execution_count": null,
   "metadata": {},
   "outputs": [],
   "source": [
    "#Datos de entrada\n",
    "x = linspace(0, 5, 20) #Generando 10 puntos entre 0 y 5"
   ]
  },
  {
   "cell_type": "code",
   "execution_count": null,
   "metadata": {},
   "outputs": [],
   "source": [
    "fig, ax = plt.subplots(facecolor='w', edgecolor='k')\n",
    "ax.plot(x, sin(x), marker=\"o\",color=\"r\", linestyle='None')\n",
    "\n",
    "ax.grid(True)\n",
    "ax.set_xlabel('X')  #Etiqueta del eje x\n",
    "ax.set_ylabel('Y')  #Etiqueta del eje y\n",
    "ax.grid(True)\n",
    "ax.legend([\"y = x**2\"])\n",
    "\n",
    "plt.title('Puntos')\n",
    "plt.show()\n",
    "\n",
    "fig.savefig(\"gráfica.png\") #Guardando la gráfica"
   ]
  }
 ],
 "metadata": {
  "kernelspec": {
   "display_name": "Python 3",
   "language": "python",
   "name": "python3"
  },
  "language_info": {
   "codemirror_mode": {
    "name": "ipython",
    "version": 3
   },
   "file_extension": ".py",
   "mimetype": "text/x-python",
   "name": "python",
   "nbconvert_exporter": "python",
   "pygments_lexer": "ipython3",
   "version": "3.8.16"
  },
  "orig_nbformat": 4
 },
 "nbformat": 4,
 "nbformat_minor": 2
}
